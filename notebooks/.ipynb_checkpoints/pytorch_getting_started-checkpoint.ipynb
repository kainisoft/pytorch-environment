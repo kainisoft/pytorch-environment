{
 "cells": [
  {
   "cell_type": "markdown",
   "metadata": {},
   "source": [
    "# PyTorch Getting Started\n",
    "\n",
    "Welcome to your PyTorch learning environment! This notebook will help you verify that everything is working correctly."
   ]
  },
  {
   "cell_type": "code",
   "execution_count": null,
   "metadata": {},
   "outputs": [],
   "source": [
    "# Import essential libraries\n",
    "import torch\n",
    "import torch.nn as nn\n",
    "import torch.optim as optim\n",
    "import torchvision\n",
    "import torchvision.transforms as transforms\n",
    "import numpy as np\n",
    "import matplotlib.pyplot as plt\n",
    "import pandas as pd\n",
    "\n",
    "print(f\"PyTorch version: {torch.__version__}\")\n",
    "print(f\"CUDA available: {torch.cuda.is_available()}\")\n",
    "if torch.cuda.is_available():\n",
    "    print(f\"CUDA version: {torch.version.cuda}\")\n",
    "    print(f\"GPU device: {torch.cuda.get_device_name(0)}\")"
   ]
  },
  {
   "cell_type": "markdown",
   "metadata": {},
   "source": [
    "## Basic Tensor Operations"
   ]
  },
  {
   "cell_type": "code",
   "execution_count": null,
   "metadata": {},
   "outputs": [],
   "source": [
    "# Create tensors\n",
    "x = torch.randn(3, 4)\n",
    "y = torch.randn(4, 2)\n",
    "\n",
    "print(\"Tensor x:\")\n",
    "print(x)\n",
    "print(f\"Shape: {x.shape}\")\n",
    "\n",
    "print(\"\\nTensor y:\")\n",
    "print(y)\n",
    "print(f\"Shape: {y.shape}\")\n",
    "\n",
    "# Matrix multiplication\n",
    "z = torch.mm(x, y)\n",
    "print(\"\\nMatrix multiplication result:\")\n",
    "print(z)\n",
    "print(f\"Shape: {z.shape}\")"
   ]
  },
  {
   "cell_type": "markdown",
   "metadata": {},
   "source": [
    "## Simple Neural Network Example"
   ]
  },
  {
   "cell_type": "code",
   "execution_count": null,
   "metadata": {},
   "outputs": [],
   "source": [
    "# Define a simple neural network\n",
    "class SimpleNet(nn.Module):\n",
    "    def __init__(self, input_size, hidden_size, output_size):\n",
    "        super(SimpleNet, self).__init__()\n",
    "        self.fc1 = nn.Linear(input_size, hidden_size)\n",
    "        self.relu = nn.ReLU()\n",
    "        self.fc2 = nn.Linear(hidden_size, output_size)\n",
    "    \n",
    "    def forward(self, x):\n",
    "        x = self.fc1(x)\n",
    "        x = self.relu(x)\n",
    "        x = self.fc2(x)\n",
    "        return x\n",
    "\n",
    "# Create the network\n",
    "net = SimpleNet(input_size=10, hidden_size=20, output_size=1)\n",
    "print(net)\n",
    "\n",
    "# Create some dummy data\n",
    "input_data = torch.randn(5, 10)  # 5 samples, 10 features each\n",
    "output = net(input_data)\n",
    "print(f\"\\nInput shape: {input_data.shape}\")\n",
    "print(f\"Output shape: {output.shape}\")\n",
    "print(f\"Output: {output.squeeze()}\")"
   ]
  },
  {
   "cell_type": "markdown",
   "metadata": {},
   "source": [
    "## Data Visualization"
   ]
  },
  {
   "cell_type": "code",
   "execution_count": null,
   "metadata": {},
   "outputs": [],
   "source": [
    "# Create some sample data for visualization\n",
    "x = np.linspace(0, 10, 100)\n",
    "y = np.sin(x) + np.random.normal(0, 0.1, 100)\n",
    "\n",
    "plt.figure(figsize=(10, 6))\n",
    "plt.plot(x, y, 'b.', alpha=0.6, label='Noisy sine wave')\n",
    "plt.plot(x, np.sin(x), 'r-', label='True sine wave')\n",
    "plt.xlabel('x')\n",
    "plt.ylabel('y')\n",
    "plt.title('Sample Data Visualization')\n",
    "plt.legend()\n",
    "plt.grid(True, alpha=0.3)\n",
    "plt.show()"
   ]
  },
  {
   "cell_type": "markdown",
   "metadata": {},
   "source": [
    "## Next Steps\n",
    "\n",
    "Now that you've verified your environment is working, you can:\n",
    "\n",
    "1. **Explore PyTorch tutorials**: Visit [PyTorch Tutorials](https://pytorch.org/tutorials/)\n",
    "2. **Work with datasets**: Try loading and processing data with `torchvision.datasets`\n",
    "3. **Build more complex models**: Experiment with CNNs, RNNs, and Transformers\n",
    "4. **Use pre-trained models**: Explore `torchvision.models` and `transformers` library\n",
    "5. **Track experiments**: Use TensorBoard or Weights & Biases for experiment tracking\n",
    "\n",
    "Happy learning! 🚀"
   ]
  }
 ],
 "metadata": {
  "kernelspec": {
   "display_name": "Python 3",
   "language": "python",
   "name": "python3"
  },
  "language_info": {
   "codemirror_mode": {
    "name": "ipython",
    "version": 3
   },
   "file_extension": ".py",
   "mimetype": "text/x-python",
   "name": "python",
   "nbconvert_exporter": "python",
   "pygments_lexer": "ipython3",
   "version": "3.8.0"
  }
 },
 "nbformat": 4,
 "nbformat_minor": 4
}
